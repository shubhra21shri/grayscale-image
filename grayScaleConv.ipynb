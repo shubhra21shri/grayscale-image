{
 "cells": [
  {
   "cell_type": "code",
   "execution_count": 3,
   "id": "2661dee7",
   "metadata": {},
   "outputs": [],
   "source": [
    "import cv2 as opencv"
   ]
  },
  {
   "cell_type": "code",
   "execution_count": 3,
   "id": "c745a251",
   "metadata": {},
   "outputs": [
    {
     "name": "stdout",
     "output_type": "stream",
     "text": [
      "Collecting opencv-python\n",
      "  Using cached opencv_python-4.10.0.84-cp37-abi3-win_amd64.whl.metadata (20 kB)\n",
      "Requirement already satisfied: numpy>=1.21.2 in c:\\users\\mmp\\anaconda3\\lib\\site-packages (from opencv-python) (1.26.4)\n",
      "Using cached opencv_python-4.10.0.84-cp37-abi3-win_amd64.whl (38.8 MB)\n",
      "Installing collected packages: opencv-python\n",
      "Successfully installed opencv-python-4.10.0.84\n",
      "Note: you may need to restart the kernel to use updated packages.\n"
     ]
    }
   ],
   "source": [
    "pip install opencv-python"
   ]
  },
  {
   "cell_type": "code",
   "execution_count": 4,
   "id": "a6bbd3a9",
   "metadata": {},
   "outputs": [],
   "source": [
    "image = opencv.imread('C:\\\\Users\\\\MMP\\\\Pictures\\\\shubhra34kb.png')\n"
   ]
  },
  {
   "cell_type": "code",
   "execution_count": null,
   "id": "d54de292",
   "metadata": {},
   "outputs": [],
   "source": [
    "if image is None:\n",
    "    print(\"Error: Image not found!\")\n",
    "else:\n",
    "    # Display the original image in a window\n",
    "    opencv.imshow('Original Image', image)\n",
    "\n",
    "    # Convert the image to grayscale\n",
    "    gray_image = opencv.cvtColor(image, opencv.COLOR_BGR2GRAY)\n",
    "\n",
    "    # Display the grayscale image in a new window\n",
    "    opencv.imshow('Grayscale Image', gray_image)\n",
    "\n",
    "    # Wait until a key is pressed\n",
    "    opencv.waitKey(0)\n",
    "\n",
    "    # Close all OpenCV windows\n",
    "    opencv.destroyAllWindows()"
   ]
  },
  {
   "cell_type": "code",
   "execution_count": null,
   "id": "90d62316",
   "metadata": {},
   "outputs": [],
   "source": []
  }
 ],
 "metadata": {
  "kernelspec": {
   "display_name": "Python 3 (ipykernel)",
   "language": "python",
   "name": "python3"
  },
  "language_info": {
   "codemirror_mode": {
    "name": "ipython",
    "version": 3
   },
   "file_extension": ".py",
   "mimetype": "text/x-python",
   "name": "python",
   "nbconvert_exporter": "python",
   "pygments_lexer": "ipython3",
   "version": "3.9.18"
  }
 },
 "nbformat": 4,
 "nbformat_minor": 5
}
